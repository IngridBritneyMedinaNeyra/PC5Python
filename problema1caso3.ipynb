{
 "cells": [
  {
   "cell_type": "code",
   "execution_count": 1,
   "metadata": {},
   "outputs": [
    {
     "name": "stdout",
     "output_type": "stream",
     "text": [
      "        room_id    host_id    room_type       neighborhood  reviews  \\\n",
      "1010    1179457    5799522  Shared room      Santo António       42   \n",
      "3562    5557699   28812904  Shared room  Santa Maria Maior       22   \n",
      "7584   13116032   72951043  Shared room            Arroios        1   \n",
      "13148  19314160  135270245  Shared room        Santa Clara        0   \n",
      "9065   14933182   91501272  Shared room      Santo António        5   \n",
      "4353    6728244   28812904  Shared room  Santa Maria Maior        8   \n",
      "5616    9317561   48360716  Shared room            Arroios       13   \n",
      "6640   11693356   28812904  Shared room  Santa Maria Maior        3   \n",
      "6641   11693442   28812904  Shared room  Santa Maria Maior       16   \n",
      "8908   14708916   91501272  Shared room      Santo António       18   \n",
      "\n",
      "       overall_satisfaction  accommodates  bedrooms  price  \n",
      "1010                    4.0            16       1.0   10.0  \n",
      "3562                    4.0             1       1.0   10.0  \n",
      "7584                    0.0             8       1.0   10.0  \n",
      "13148                   0.0             1       1.0   10.0  \n",
      "9065                    5.0             8       1.0   11.0  \n",
      "4353                    4.5             1       1.0   11.0  \n",
      "5616                    4.5             4       1.0   11.0  \n",
      "6640                    4.5             1       1.0   11.0  \n",
      "6641                    4.5             1       1.0   11.0  \n",
      "8908                    4.5             4       1.0   11.0  \n"
     ]
    }
   ],
   "source": [
    "import pandas as pd\n",
    "\n",
    "# Leer el archivo CSV\n",
    "df_airbnb = pd.read_csv(\"/workspaces/PC5Python/Data/airbnb.csv\")\n",
    "\n",
    "# Filtrar propiedades que se ajusten al presupuesto de Diana y sean habitaciones compartidas\n",
    "diana_properties = df_airbnb[(df_airbnb['price'] <= 50) & (df_airbnb['room_type'] == 'Shared room')]\n",
    "\n",
    "# Ordenar propiedades por precio y, para habitaciones compartidas, también por puntuación media\n",
    "diana_properties_sorted = diana_properties.sort_values(by=['price', 'overall_satisfaction'], ascending=[True, False])\n",
    "\n",
    "# Seleccionar las 10 propiedades más baratas\n",
    "top_10_properties = diana_properties_sorted.head(10)\n",
    "\n",
    "# Mostrar las propiedades seleccionadas\n",
    "print(top_10_properties)\n"
   ]
  }
 ],
 "metadata": {
  "kernelspec": {
   "display_name": "Python 3",
   "language": "python",
   "name": "python3"
  },
  "language_info": {
   "codemirror_mode": {
    "name": "ipython",
    "version": 3
   },
   "file_extension": ".py",
   "mimetype": "text/x-python",
   "name": "python",
   "nbconvert_exporter": "python",
   "pygments_lexer": "ipython3",
   "version": "3.10.13"
  }
 },
 "nbformat": 4,
 "nbformat_minor": 2
}
